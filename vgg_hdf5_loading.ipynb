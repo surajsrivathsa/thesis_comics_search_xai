{
 "cells": [
  {
   "cell_type": "code",
   "execution_count": 1,
   "metadata": {},
   "outputs": [],
   "source": [
    "import os, sys, h5py, numpy as np, pandas as pd, torch"
   ]
  },
  {
   "cell_type": "code",
   "execution_count": 2,
   "metadata": {},
   "outputs": [],
   "source": [
    "from sklearn.decomposition import PCA"
   ]
  },
  {
   "cell_type": "code",
   "execution_count": 3,
   "metadata": {},
   "outputs": [],
   "source": [
    "import pickle"
   ]
  },
  {
   "cell_type": "code",
   "execution_count": 4,
   "metadata": {},
   "outputs": [],
   "source": [
    "thesis_dataset_folder_path = r\"/Volumes/suraj/ovgu/thesis/dataset/COMICS/data\"\n",
    "ocr_filepath = r\"/Users/surajshashidhar/Downloads/COMICS_ocr_file_bkp.csv\"\n",
    "vgg_file_name = \"vgg_features_bkp.h5\"\n",
    "vgg_file_path = os.path.join(thesis_dataset_folder_path, vgg_file_name)\n"
   ]
  },
  {
   "cell_type": "code",
   "execution_count": 5,
   "metadata": {},
   "outputs": [
    {
     "data": {
      "text/html": [
       "<div>\n",
       "<style scoped>\n",
       "    .dataframe tbody tr th:only-of-type {\n",
       "        vertical-align: middle;\n",
       "    }\n",
       "\n",
       "    .dataframe tbody tr th {\n",
       "        vertical-align: top;\n",
       "    }\n",
       "\n",
       "    .dataframe thead th {\n",
       "        text-align: right;\n",
       "    }\n",
       "</style>\n",
       "<table border=\"1\" class=\"dataframe\">\n",
       "  <thead>\n",
       "    <tr style=\"text-align: right;\">\n",
       "      <th></th>\n",
       "      <th>comic_no</th>\n",
       "      <th>page_no</th>\n",
       "      <th>panel_no</th>\n",
       "      <th>textbox_no</th>\n",
       "      <th>dialog_or_narration</th>\n",
       "      <th>text</th>\n",
       "      <th>x1</th>\n",
       "      <th>y1</th>\n",
       "      <th>x2</th>\n",
       "      <th>y2</th>\n",
       "    </tr>\n",
       "  </thead>\n",
       "  <tbody>\n",
       "    <tr>\n",
       "      <th>0</th>\n",
       "      <td>0</td>\n",
       "      <td>0</td>\n",
       "      <td>0</td>\n",
       "      <td>0</td>\n",
       "      <td>NaN</td>\n",
       "      <td>NaN</td>\n",
       "      <td>NaN</td>\n",
       "      <td>NaN</td>\n",
       "      <td>NaN</td>\n",
       "      <td>NaN</td>\n",
       "    </tr>\n",
       "    <tr>\n",
       "      <th>1</th>\n",
       "      <td>0</td>\n",
       "      <td>0</td>\n",
       "      <td>1</td>\n",
       "      <td>0</td>\n",
       "      <td>1.0</td>\n",
       "      <td>account of s wiggins</td>\n",
       "      <td>11.0</td>\n",
       "      <td>17.0</td>\n",
       "      <td>361.0</td>\n",
       "      <td>190.0</td>\n",
       "    </tr>\n",
       "    <tr>\n",
       "      <th>2</th>\n",
       "      <td>0</td>\n",
       "      <td>0</td>\n",
       "      <td>1</td>\n",
       "      <td>1</td>\n",
       "      <td>1.0</td>\n",
       "      <td>10c</td>\n",
       "      <td>855.0</td>\n",
       "      <td>5.0</td>\n",
       "      <td>1067.0</td>\n",
       "      <td>154.0</td>\n",
       "    </tr>\n",
       "  </tbody>\n",
       "</table>\n",
       "</div>"
      ],
      "text/plain": [
       "   comic_no  page_no  panel_no  textbox_no  dialog_or_narration  \\\n",
       "0         0        0         0           0                  NaN   \n",
       "1         0        0         1           0                  1.0   \n",
       "2         0        0         1           1                  1.0   \n",
       "\n",
       "                   text     x1    y1      x2     y2  \n",
       "0                   NaN    NaN   NaN     NaN    NaN  \n",
       "1  account of s wiggins   11.0  17.0   361.0  190.0  \n",
       "2                   10c  855.0   5.0  1067.0  154.0  "
      ]
     },
     "execution_count": 5,
     "metadata": {},
     "output_type": "execute_result"
    }
   ],
   "source": [
    "ocr_df = pd.read_csv(ocr_filepath)\n",
    "ocr_df.head(3)"
   ]
  },
  {
   "cell_type": "code",
   "execution_count": 6,
   "metadata": {},
   "outputs": [
    {
     "data": {
      "text/plain": [
       "(2545728, 10)"
      ]
     },
     "execution_count": 6,
     "metadata": {},
     "output_type": "execute_result"
    }
   ],
   "source": [
    "ocr_df.shape"
   ]
  },
  {
   "cell_type": "code",
   "execution_count": 35,
   "metadata": {},
   "outputs": [
    {
     "data": {
      "text/html": [
       "<div>\n",
       "<style scoped>\n",
       "    .dataframe tbody tr th:only-of-type {\n",
       "        vertical-align: middle;\n",
       "    }\n",
       "\n",
       "    .dataframe tbody tr th {\n",
       "        vertical-align: top;\n",
       "    }\n",
       "\n",
       "    .dataframe thead th {\n",
       "        text-align: right;\n",
       "    }\n",
       "</style>\n",
       "<table border=\"1\" class=\"dataframe\">\n",
       "  <thead>\n",
       "    <tr style=\"text-align: right;\">\n",
       "      <th></th>\n",
       "      <th>old_comic_no</th>\n",
       "      <th>per_book_page_no</th>\n",
       "      <th>per_page_panel_count</th>\n",
       "      <th>per_book_panel_sum</th>\n",
       "      <th>new_comic_no</th>\n",
       "      <th>max_page_no</th>\n",
       "    </tr>\n",
       "  </thead>\n",
       "  <tbody>\n",
       "    <tr>\n",
       "      <th>0</th>\n",
       "      <td>0</td>\n",
       "      <td>0</td>\n",
       "      <td>2</td>\n",
       "      <td>1674</td>\n",
       "      <td>0</td>\n",
       "      <td>51</td>\n",
       "    </tr>\n",
       "    <tr>\n",
       "      <th>1</th>\n",
       "      <td>0</td>\n",
       "      <td>1</td>\n",
       "      <td>7</td>\n",
       "      <td>1674</td>\n",
       "      <td>0</td>\n",
       "      <td>51</td>\n",
       "    </tr>\n",
       "    <tr>\n",
       "      <th>2</th>\n",
       "      <td>0</td>\n",
       "      <td>2</td>\n",
       "      <td>2</td>\n",
       "      <td>1674</td>\n",
       "      <td>0</td>\n",
       "      <td>51</td>\n",
       "    </tr>\n",
       "    <tr>\n",
       "      <th>3</th>\n",
       "      <td>0</td>\n",
       "      <td>3</td>\n",
       "      <td>7</td>\n",
       "      <td>1674</td>\n",
       "      <td>0</td>\n",
       "      <td>51</td>\n",
       "    </tr>\n",
       "    <tr>\n",
       "      <th>4</th>\n",
       "      <td>0</td>\n",
       "      <td>4</td>\n",
       "      <td>7</td>\n",
       "      <td>1674</td>\n",
       "      <td>0</td>\n",
       "      <td>51</td>\n",
       "    </tr>\n",
       "  </tbody>\n",
       "</table>\n",
       "</div>"
      ],
      "text/plain": [
       "   old_comic_no  per_book_page_no  per_page_panel_count  per_book_panel_sum  \\\n",
       "0             0                 0                     2                1674   \n",
       "1             0                 1                     7                1674   \n",
       "2             0                 2                     2                1674   \n",
       "3             0                 3                     7                1674   \n",
       "4             0                 4                     7                1674   \n",
       "\n",
       "   new_comic_no  max_page_no  \n",
       "0             0           51  \n",
       "1             0           51  \n",
       "2             0           51  \n",
       "3             0           51  \n",
       "4             0           51  "
      ]
     },
     "execution_count": 35,
     "metadata": {},
     "output_type": "execute_result"
    }
   ],
   "source": [
    "max_page_per_book_df = ocr_df.groupby('comic_no').agg({'page_no':'max', 'panel_no':'sum'}).reset_index()\n",
    "total_panels_per_book_df = ocr_df.groupby(['comic_no', 'page_no']).agg({'panel_no':'nunique'}).reset_index()\n",
    "\n",
    "max_page_per_book_df['new_comic_no'] = max_page_per_book_df.index.copy()\n",
    "max_page_per_book_df['max_page_no'] = max_page_per_book_df['page_no']\n",
    "# max_page_per_book_df.sort_values(['new_comic_no', 'page_no'], ascending=[True, True], inplace=True)\n",
    "\n",
    "merged_df = pd.merge(left=total_panels_per_book_df, right=max_page_per_book_df, left_on='comic_no', right_on='comic_no', suffixes=['_l', '_r'], how='inner')\n",
    "merged_df = merged_df[['comic_no', 'page_no_l', 'panel_no_l',  'panel_no_r','new_comic_no', 'max_page_no']]\n",
    "merged_df.columns = ['old_comic_no', 'per_book_page_no', 'per_page_panel_count', 'per_book_panel_sum', 'new_comic_no', 'max_page_no']\n",
    "# print(merged_df.shape)\n",
    "merged_df.head(5)"
   ]
  },
  {
   "cell_type": "code",
   "execution_count": 37,
   "metadata": {},
   "outputs": [],
   "source": [
    "merged_df.to_csv(\"merged_df.csv\")"
   ]
  },
  {
   "cell_type": "code",
   "execution_count": null,
   "metadata": {},
   "outputs": [],
   "source": []
  },
  {
   "cell_type": "code",
   "execution_count": 17,
   "metadata": {},
   "outputs": [],
   "source": [
    "ocr_total_pages_df = ocr_df.groupby(['comic_no', 'page_no'])['panel_no'].nunique().reset_index()"
   ]
  },
  {
   "cell_type": "code",
   "execution_count": 18,
   "metadata": {},
   "outputs": [
    {
     "data": {
      "text/html": [
       "<div>\n",
       "<style scoped>\n",
       "    .dataframe tbody tr th:only-of-type {\n",
       "        vertical-align: middle;\n",
       "    }\n",
       "\n",
       "    .dataframe tbody tr th {\n",
       "        vertical-align: top;\n",
       "    }\n",
       "\n",
       "    .dataframe thead th {\n",
       "        text-align: right;\n",
       "    }\n",
       "</style>\n",
       "<table border=\"1\" class=\"dataframe\">\n",
       "  <thead>\n",
       "    <tr style=\"text-align: right;\">\n",
       "      <th></th>\n",
       "      <th>comic_no</th>\n",
       "      <th>page_no</th>\n",
       "      <th>panel_no</th>\n",
       "    </tr>\n",
       "  </thead>\n",
       "  <tbody>\n",
       "    <tr>\n",
       "      <th>0</th>\n",
       "      <td>0</td>\n",
       "      <td>0</td>\n",
       "      <td>2</td>\n",
       "    </tr>\n",
       "    <tr>\n",
       "      <th>1</th>\n",
       "      <td>0</td>\n",
       "      <td>1</td>\n",
       "      <td>7</td>\n",
       "    </tr>\n",
       "    <tr>\n",
       "      <th>2</th>\n",
       "      <td>0</td>\n",
       "      <td>2</td>\n",
       "      <td>2</td>\n",
       "    </tr>\n",
       "    <tr>\n",
       "      <th>3</th>\n",
       "      <td>0</td>\n",
       "      <td>3</td>\n",
       "      <td>7</td>\n",
       "    </tr>\n",
       "    <tr>\n",
       "      <th>4</th>\n",
       "      <td>0</td>\n",
       "      <td>4</td>\n",
       "      <td>7</td>\n",
       "    </tr>\n",
       "  </tbody>\n",
       "</table>\n",
       "</div>"
      ],
      "text/plain": [
       "   comic_no  page_no  panel_no\n",
       "0         0        0         2\n",
       "1         0        1         7\n",
       "2         0        2         2\n",
       "3         0        3         7\n",
       "4         0        4         7"
      ]
     },
     "execution_count": 18,
     "metadata": {},
     "output_type": "execute_result"
    }
   ],
   "source": [
    "ocr_total_pages_df.head()"
   ]
  },
  {
   "cell_type": "code",
   "execution_count": 23,
   "metadata": {},
   "outputs": [
    {
     "data": {
      "text/html": [
       "<div>\n",
       "<style scoped>\n",
       "    .dataframe tbody tr th:only-of-type {\n",
       "        vertical-align: middle;\n",
       "    }\n",
       "\n",
       "    .dataframe tbody tr th {\n",
       "        vertical-align: top;\n",
       "    }\n",
       "\n",
       "    .dataframe thead th {\n",
       "        text-align: right;\n",
       "    }\n",
       "</style>\n",
       "<table border=\"1\" class=\"dataframe\">\n",
       "  <thead>\n",
       "    <tr style=\"text-align: right;\">\n",
       "      <th></th>\n",
       "      <th>comic_no</th>\n",
       "      <th>page_no</th>\n",
       "      <th>panel_no</th>\n",
       "    </tr>\n",
       "  </thead>\n",
       "  <tbody>\n",
       "    <tr>\n",
       "      <th>195790</th>\n",
       "      <td>3958</td>\n",
       "      <td>34</td>\n",
       "      <td>7</td>\n",
       "    </tr>\n",
       "    <tr>\n",
       "      <th>195791</th>\n",
       "      <td>3958</td>\n",
       "      <td>35</td>\n",
       "      <td>5</td>\n",
       "    </tr>\n",
       "    <tr>\n",
       "      <th>195792</th>\n",
       "      <td>3958</td>\n",
       "      <td>36</td>\n",
       "      <td>6</td>\n",
       "    </tr>\n",
       "    <tr>\n",
       "      <th>195793</th>\n",
       "      <td>3958</td>\n",
       "      <td>37</td>\n",
       "      <td>3</td>\n",
       "    </tr>\n",
       "    <tr>\n",
       "      <th>195794</th>\n",
       "      <td>3958</td>\n",
       "      <td>38</td>\n",
       "      <td>6</td>\n",
       "    </tr>\n",
       "  </tbody>\n",
       "</table>\n",
       "</div>"
      ],
      "text/plain": [
       "        comic_no  page_no  panel_no\n",
       "195790      3958       34         7\n",
       "195791      3958       35         5\n",
       "195792      3958       36         6\n",
       "195793      3958       37         3\n",
       "195794      3958       38         6"
      ]
     },
     "execution_count": 23,
     "metadata": {},
     "output_type": "execute_result"
    }
   ],
   "source": [
    "ocr_total_pages_df.tail()"
   ]
  },
  {
   "cell_type": "code",
   "execution_count": 21,
   "metadata": {},
   "outputs": [
    {
     "data": {
      "text/plain": [
       "3929"
      ]
     },
     "execution_count": 21,
     "metadata": {},
     "output_type": "execute_result"
    }
   ],
   "source": [
    "ocr_total_pages_df['comic_no'].nunique()"
   ]
  },
  {
   "cell_type": "code",
   "execution_count": 29,
   "metadata": {},
   "outputs": [
    {
     "data": {
      "text/plain": [
       "1229664"
      ]
     },
     "execution_count": 29,
     "metadata": {},
     "output_type": "execute_result"
    }
   ],
   "source": [
    "ocr_total_pages_df['panel_no'].sum()"
   ]
  },
  {
   "cell_type": "code",
   "execution_count": 26,
   "metadata": {},
   "outputs": [
    {
     "data": {
      "text/html": [
       "<div>\n",
       "<style scoped>\n",
       "    .dataframe tbody tr th:only-of-type {\n",
       "        vertical-align: middle;\n",
       "    }\n",
       "\n",
       "    .dataframe tbody tr th {\n",
       "        vertical-align: top;\n",
       "    }\n",
       "\n",
       "    .dataframe thead th {\n",
       "        text-align: right;\n",
       "    }\n",
       "</style>\n",
       "<table border=\"1\" class=\"dataframe\">\n",
       "  <thead>\n",
       "    <tr style=\"text-align: right;\">\n",
       "      <th></th>\n",
       "      <th>comic_no</th>\n",
       "      <th>page_no</th>\n",
       "      <th>new_comic_no</th>\n",
       "      <th>max_page_no</th>\n",
       "    </tr>\n",
       "  </thead>\n",
       "  <tbody>\n",
       "    <tr>\n",
       "      <th>0</th>\n",
       "      <td>0</td>\n",
       "      <td>51</td>\n",
       "      <td>0</td>\n",
       "      <td>51</td>\n",
       "    </tr>\n",
       "    <tr>\n",
       "      <th>1</th>\n",
       "      <td>1</td>\n",
       "      <td>128</td>\n",
       "      <td>1</td>\n",
       "      <td>128</td>\n",
       "    </tr>\n",
       "    <tr>\n",
       "      <th>2</th>\n",
       "      <td>2</td>\n",
       "      <td>37</td>\n",
       "      <td>2</td>\n",
       "      <td>37</td>\n",
       "    </tr>\n",
       "    <tr>\n",
       "      <th>3</th>\n",
       "      <td>3</td>\n",
       "      <td>37</td>\n",
       "      <td>3</td>\n",
       "      <td>37</td>\n",
       "    </tr>\n",
       "    <tr>\n",
       "      <th>4</th>\n",
       "      <td>4</td>\n",
       "      <td>53</td>\n",
       "      <td>4</td>\n",
       "      <td>53</td>\n",
       "    </tr>\n",
       "  </tbody>\n",
       "</table>\n",
       "</div>"
      ],
      "text/plain": [
       "   comic_no  page_no  new_comic_no  max_page_no\n",
       "0         0       51             0           51\n",
       "1         1      128             1          128\n",
       "2         2       37             2           37\n",
       "3         3       37             3           37\n",
       "4         4       53             4           53"
      ]
     },
     "execution_count": 26,
     "metadata": {},
     "output_type": "execute_result"
    }
   ],
   "source": [
    "max_page_per_book_df = ocr_total_pages_df.groupby('comic_no')['page_no'].max().reset_index()\n",
    "max_page_per_book_df['new_comic_no'] = max_page_per_book_df.index.copy()\n",
    "max_page_per_book_df['max_page_no'] = max_page_per_book_df['page_no']\n",
    "\n",
    "max_page_per_book_df.sort_values(['new_comic_no', 'page_no'], ascending=[True, True], inplace=True)\n",
    "max_page_per_book_df.head(5)"
   ]
  },
  {
   "cell_type": "code",
   "execution_count": 27,
   "metadata": {},
   "outputs": [],
   "source": [
    "ocr_train_pages_df = max_page_per_book_df[max_page_per_book_df['new_comic_no'] < 2929]\n",
    "ocr_dev_pages_df = max_page_per_book_df[ (max_page_per_book_df['new_comic_no'] >= 2929)  &  (max_page_per_book_df['new_comic_no'] < 3429) ]\n",
    "ocr_test_pages_df = max_page_per_book_df[max_page_per_book_df['new_comic_no'] >= 3429]"
   ]
  },
  {
   "cell_type": "code",
   "execution_count": 31,
   "metadata": {},
   "outputs": [
    {
     "name": "stdout",
     "output_type": "stream",
     "text": [
      "(2929, 4) (500, 4) (500, 4)\n"
     ]
    }
   ],
   "source": [
    "print(ocr_train_pages_df.shape, ocr_dev_pages_df.shape, ocr_test_pages_df.shape)"
   ]
  },
  {
   "cell_type": "code",
   "execution_count": 30,
   "metadata": {},
   "outputs": [
    {
     "data": {
      "text/plain": [
       "(195795, 6)"
      ]
     },
     "execution_count": 30,
     "metadata": {},
     "output_type": "execute_result"
    }
   ],
   "source": [
    "merged_df = pd.merge(left=max_page_per_book_df, right=ocr_total_pages_df, left_on='comic_no', right_on='comic_no', how='inner')\n",
    "merged_df.shape"
   ]
  },
  {
   "cell_type": "code",
   "execution_count": 33,
   "metadata": {},
   "outputs": [
    {
     "data": {
      "text/plain": [
       "1229664"
      ]
     },
     "execution_count": 33,
     "metadata": {},
     "output_type": "execute_result"
    }
   ],
   "source": [
    "merged_df['panel_no'].sum()"
   ]
  },
  {
   "cell_type": "code",
   "execution_count": 28,
   "metadata": {},
   "outputs": [],
   "source": [
    "ocr_dev_alle_df = ocr_df[(ocr_df['comic_no']>= 2929) & (ocr_df['comic_no']< 3429)]"
   ]
  },
  {
   "cell_type": "code",
   "execution_count": 29,
   "metadata": {},
   "outputs": [],
   "source": [
    "ocr_dev_alle_df.groupby(['comic_no', 'page_no'])['panel_no'].max().reset_index().to_csv('ocr_dev_alle_gp.csv')"
   ]
  },
  {
   "cell_type": "code",
   "execution_count": 7,
   "metadata": {},
   "outputs": [
    {
     "name": "stdout",
     "output_type": "stream",
     "text": [
      "(2498656, 10)\n",
      "(2498656, 10)\n"
     ]
    }
   ],
   "source": [
    "ocr_changed_df = ocr_df.dropna(subset=['x1', 'x2', 'y1', 'y2'], how='all')\n",
    "print(ocr_changed_df.shape)\n",
    "ocr_changed_df = ocr_changed_df.dropna(subset=['comic_no', 'page_no'], how='all')\n",
    "print(ocr_changed_df.shape)"
   ]
  },
  {
   "cell_type": "code",
   "execution_count": 16,
   "metadata": {},
   "outputs": [
    {
     "data": {
      "text/html": [
       "<div>\n",
       "<style scoped>\n",
       "    .dataframe tbody tr th:only-of-type {\n",
       "        vertical-align: middle;\n",
       "    }\n",
       "\n",
       "    .dataframe tbody tr th {\n",
       "        vertical-align: top;\n",
       "    }\n",
       "\n",
       "    .dataframe thead th {\n",
       "        text-align: right;\n",
       "    }\n",
       "</style>\n",
       "<table border=\"1\" class=\"dataframe\">\n",
       "  <thead>\n",
       "    <tr style=\"text-align: right;\">\n",
       "      <th></th>\n",
       "      <th>comic_no</th>\n",
       "      <th>page_no</th>\n",
       "      <th>new_comic_no</th>\n",
       "      <th>max_page_no</th>\n",
       "    </tr>\n",
       "  </thead>\n",
       "  <tbody>\n",
       "    <tr>\n",
       "      <th>0</th>\n",
       "      <td>0</td>\n",
       "      <td>51</td>\n",
       "      <td>0</td>\n",
       "      <td>51</td>\n",
       "    </tr>\n",
       "    <tr>\n",
       "      <th>1</th>\n",
       "      <td>1</td>\n",
       "      <td>128</td>\n",
       "      <td>1</td>\n",
       "      <td>128</td>\n",
       "    </tr>\n",
       "    <tr>\n",
       "      <th>2</th>\n",
       "      <td>2</td>\n",
       "      <td>37</td>\n",
       "      <td>2</td>\n",
       "      <td>37</td>\n",
       "    </tr>\n",
       "    <tr>\n",
       "      <th>3</th>\n",
       "      <td>3</td>\n",
       "      <td>37</td>\n",
       "      <td>3</td>\n",
       "      <td>37</td>\n",
       "    </tr>\n",
       "    <tr>\n",
       "      <th>4</th>\n",
       "      <td>4</td>\n",
       "      <td>53</td>\n",
       "      <td>4</td>\n",
       "      <td>53</td>\n",
       "    </tr>\n",
       "  </tbody>\n",
       "</table>\n",
       "</div>"
      ],
      "text/plain": [
       "   comic_no  page_no  new_comic_no  max_page_no\n",
       "0         0       51             0           51\n",
       "1         1      128             1          128\n",
       "2         2       37             2           37\n",
       "3         3       37             3           37\n",
       "4         4       53             4           53"
      ]
     },
     "execution_count": 16,
     "metadata": {},
     "output_type": "execute_result"
    }
   ],
   "source": [
    "max_page_per_book_df = ocr_changed_df.groupby('comic_no')['page_no'].max().reset_index()\n",
    "# max_page_per_book_df.to_csv('max_page_per_book_df.csv')\n",
    "max_page_per_book_df['new_comic_no'] = max_page_per_book_df.index.copy()\n",
    "max_page_per_book_df['max_page_no'] = max_page_per_book_df['page_no']\n",
    "max_page_per_book_df.head(5)"
   ]
  },
  {
   "cell_type": "code",
   "execution_count": 11,
   "metadata": {},
   "outputs": [
    {
     "data": {
      "text/html": [
       "<div>\n",
       "<style scoped>\n",
       "    .dataframe tbody tr th:only-of-type {\n",
       "        vertical-align: middle;\n",
       "    }\n",
       "\n",
       "    .dataframe tbody tr th {\n",
       "        vertical-align: top;\n",
       "    }\n",
       "\n",
       "    .dataframe thead th {\n",
       "        text-align: right;\n",
       "    }\n",
       "</style>\n",
       "<table border=\"1\" class=\"dataframe\">\n",
       "  <thead>\n",
       "    <tr style=\"text-align: right;\">\n",
       "      <th></th>\n",
       "      <th>comic_no</th>\n",
       "      <th>page_no</th>\n",
       "      <th>panel_no</th>\n",
       "    </tr>\n",
       "  </thead>\n",
       "  <tbody>\n",
       "    <tr>\n",
       "      <th>0</th>\n",
       "      <td>0</td>\n",
       "      <td>0</td>\n",
       "      <td>1</td>\n",
       "    </tr>\n",
       "    <tr>\n",
       "      <th>1</th>\n",
       "      <td>0</td>\n",
       "      <td>1</td>\n",
       "      <td>6</td>\n",
       "    </tr>\n",
       "    <tr>\n",
       "      <th>2</th>\n",
       "      <td>0</td>\n",
       "      <td>2</td>\n",
       "      <td>1</td>\n",
       "    </tr>\n",
       "    <tr>\n",
       "      <th>3</th>\n",
       "      <td>0</td>\n",
       "      <td>3</td>\n",
       "      <td>6</td>\n",
       "    </tr>\n",
       "    <tr>\n",
       "      <th>4</th>\n",
       "      <td>0</td>\n",
       "      <td>4</td>\n",
       "      <td>6</td>\n",
       "    </tr>\n",
       "  </tbody>\n",
       "</table>\n",
       "</div>"
      ],
      "text/plain": [
       "   comic_no  page_no  panel_no\n",
       "0         0        0         1\n",
       "1         0        1         6\n",
       "2         0        2         1\n",
       "3         0        3         6\n",
       "4         0        4         6"
      ]
     },
     "execution_count": 11,
     "metadata": {},
     "output_type": "execute_result"
    }
   ],
   "source": [
    "number_of_panels_per_book_df = ocr_changed_df.groupby(['comic_no', 'page_no'])['panel_no'].max().reset_index()\n",
    "number_of_panels_per_book_df.head(5)"
   ]
  },
  {
   "cell_type": "code",
   "execution_count": 12,
   "metadata": {},
   "outputs": [
    {
     "data": {
      "text/plain": [
       "(194489, 3)"
      ]
     },
     "execution_count": 12,
     "metadata": {},
     "output_type": "execute_result"
    }
   ],
   "source": [
    "number_of_panels_per_book_df.shape"
   ]
  },
  {
   "cell_type": "code",
   "execution_count": 17,
   "metadata": {},
   "outputs": [],
   "source": [
    "comic_info_df = pd.merge(left=number_of_panels_per_book_df, right=max_page_per_book_df, how='inner', left_on=['comic_no'], right_on=['comic_no'],suffixes=('', '_DROP')).filter(regex='^(?!.*_DROP)')"
   ]
  },
  {
   "cell_type": "code",
   "execution_count": 19,
   "metadata": {},
   "outputs": [
    {
     "data": {
      "text/html": [
       "<div>\n",
       "<style scoped>\n",
       "    .dataframe tbody tr th:only-of-type {\n",
       "        vertical-align: middle;\n",
       "    }\n",
       "\n",
       "    .dataframe tbody tr th {\n",
       "        vertical-align: top;\n",
       "    }\n",
       "\n",
       "    .dataframe thead th {\n",
       "        text-align: right;\n",
       "    }\n",
       "</style>\n",
       "<table border=\"1\" class=\"dataframe\">\n",
       "  <thead>\n",
       "    <tr style=\"text-align: right;\">\n",
       "      <th></th>\n",
       "      <th>comic_no</th>\n",
       "      <th>page_no</th>\n",
       "      <th>panel_no</th>\n",
       "      <th>new_comic_no</th>\n",
       "      <th>max_page_no</th>\n",
       "    </tr>\n",
       "  </thead>\n",
       "  <tbody>\n",
       "    <tr>\n",
       "      <th>0</th>\n",
       "      <td>0</td>\n",
       "      <td>0</td>\n",
       "      <td>1</td>\n",
       "      <td>0</td>\n",
       "      <td>51</td>\n",
       "    </tr>\n",
       "    <tr>\n",
       "      <th>1</th>\n",
       "      <td>0</td>\n",
       "      <td>1</td>\n",
       "      <td>6</td>\n",
       "      <td>0</td>\n",
       "      <td>51</td>\n",
       "    </tr>\n",
       "  </tbody>\n",
       "</table>\n",
       "</div>"
      ],
      "text/plain": [
       "   comic_no  page_no  panel_no  new_comic_no  max_page_no\n",
       "0         0        0         1             0           51\n",
       "1         0        1         6             0           51"
      ]
     },
     "execution_count": 19,
     "metadata": {},
     "output_type": "execute_result"
    }
   ],
   "source": [
    "comic_info_df.head(2)"
   ]
  },
  {
   "cell_type": "code",
   "execution_count": 20,
   "metadata": {},
   "outputs": [],
   "source": [
    "comic_info_df.to_csv('comic_info_df.csv')"
   ]
  },
  {
   "cell_type": "code",
   "execution_count": 24,
   "metadata": {},
   "outputs": [],
   "source": [
    "dev_comic_info_df = comic_info_df[(comic_info_df['new_comic_no'] >= 2929) & (comic_info_df['new_comic_no'] < 3429)]"
   ]
  },
  {
   "cell_type": "code",
   "execution_count": 25,
   "metadata": {},
   "outputs": [
    {
     "data": {
      "text/plain": [
       "(24429, 5)"
      ]
     },
     "execution_count": 25,
     "metadata": {},
     "output_type": "execute_result"
    }
   ],
   "source": [
    "dev_comic_info_df.shape"
   ]
  },
  {
   "cell_type": "code",
   "execution_count": 26,
   "metadata": {},
   "outputs": [],
   "source": [
    "dev_comic_info_df.to_csv('dev_comic_info_df.csv')"
   ]
  },
  {
   "cell_type": "code",
   "execution_count": null,
   "metadata": {},
   "outputs": [],
   "source": []
  },
  {
   "cell_type": "code",
   "execution_count": null,
   "metadata": {},
   "outputs": [],
   "source": []
  },
  {
   "cell_type": "markdown",
   "metadata": {},
   "source": [
    "# Read VGG Embeddings"
   ]
  },
  {
   "cell_type": "code",
   "execution_count": 9,
   "metadata": {},
   "outputs": [],
   "source": [
    "comics_fc7 = h5py.File(vgg_file_path, mode='r')"
   ]
  },
  {
   "cell_type": "code",
   "execution_count": 10,
   "metadata": {},
   "outputs": [],
   "source": [
    "# training_all_embeddings = comics_fc7['train']['vgg_features']\n",
    "test_all_embeddings = comics_fc7['test']['vgg_features']\n",
    "dev_all_embeddings = comics_fc7['dev']['vgg_features']"
   ]
  },
  {
   "cell_type": "code",
   "execution_count": 15,
   "metadata": {},
   "outputs": [],
   "source": [
    "dev_all_np = dev_all_embeddings[:]"
   ]
  },
  {
   "cell_type": "code",
   "execution_count": 16,
   "metadata": {},
   "outputs": [],
   "source": [
    "dev_filtered_np = dev_all_np[(dev_all_np>1e-7).any(axis=2)]"
   ]
  },
  {
   "cell_type": "code",
   "execution_count": 17,
   "metadata": {},
   "outputs": [],
   "source": [
    "with open('dev_filtered_np.pickle', 'wb') as handle:\n",
    "    pickle.dump(dev_filtered_np, handle, protocol=pickle.HIGHEST_PROTOCOL)"
   ]
  },
  {
   "cell_type": "code",
   "execution_count": 18,
   "metadata": {},
   "outputs": [],
   "source": [
    "del dev_all_np, dev_filtered_np"
   ]
  },
  {
   "cell_type": "code",
   "execution_count": 19,
   "metadata": {},
   "outputs": [],
   "source": [
    "test_all_np = test_all_embeddings[:]\n",
    "test_filtered_np = test_all_np[(test_all_np>1e-7).any(axis=2)]\n",
    "\n",
    "with open('test_filtered_np.pickle', 'wb') as handle:\n",
    "    pickle.dump(test_filtered_np, handle, protocol=pickle.HIGHEST_PROTOCOL)\n",
    "\n",
    "del test_all_np, test_filtered_np"
   ]
  },
  {
   "cell_type": "code",
   "execution_count": null,
   "metadata": {},
   "outputs": [],
   "source": []
  },
  {
   "cell_type": "code",
   "execution_count": null,
   "metadata": {},
   "outputs": [],
   "source": []
  },
  {
   "cell_type": "code",
   "execution_count": 11,
   "metadata": {},
   "outputs": [],
   "source": [
    "dev_comic_vgg_info_dict = {}\n",
    "for page_num in range(dev_all_embeddings.shape[0]):\n",
    "\n",
    "    dev_comic_vgg_info_dict['page_' + str(page_num)] = {}\n",
    "    counter = 0\n",
    "    for panel_num in range(9):\n",
    "        panel_embedding = dev_all_embeddings[page_num, panel_num, :]\n",
    "\n",
    "        \n",
    "        if np.min(panel_embedding) == np.max(panel_embedding):\n",
    "            break;\n",
    "        else:\n",
    "            counter = counter + 1\n",
    "            dev_comic_vgg_info_dict['page_' + str(page_num)]['counter'] = counter\n",
    "            dev_comic_vgg_info_dict['page_' + str(page_num)]['panel_num'+str(panel_num)] = panel_embedding \n",
    "\n",
    "\n"
   ]
  },
  {
   "cell_type": "code",
   "execution_count": 12,
   "metadata": {},
   "outputs": [],
   "source": [
    "with open('dev_vgg_embedding.pickle', 'wb') as handle:\n",
    "    pickle.dump(dev_comic_vgg_info_dict, handle, protocol=pickle.HIGHEST_PROTOCOL)"
   ]
  },
  {
   "cell_type": "code",
   "execution_count": null,
   "metadata": {},
   "outputs": [],
   "source": [
    "dev_all_embeddings[:, :]"
   ]
  },
  {
   "cell_type": "code",
   "execution_count": null,
   "metadata": {},
   "outputs": [],
   "source": []
  },
  {
   "cell_type": "code",
   "execution_count": null,
   "metadata": {},
   "outputs": [],
   "source": []
  },
  {
   "cell_type": "code",
   "execution_count": 27,
   "metadata": {},
   "outputs": [],
   "source": [
    "test_comic_vgg_info_dict = {}\n",
    "for page_num in range(test_all_embeddings.shape[0]):\n",
    "\n",
    "    test_comic_vgg_info_dict['page_' + str(page_num)] = {}\n",
    "    counter = 0\n",
    "    for panel_num in range(9):\n",
    "        panel_embedding = test_all_embeddings[page_num, panel_num, :]\n",
    "\n",
    "        \n",
    "        if np.min(panel_embedding) <= 1e-6:\n",
    "            break;\n",
    "        else:\n",
    "            counter = counter + 1\n",
    "            test_comic_vgg_info_dict['page_' + str(page_num)]['counter'] = counter\n",
    "            test_comic_vgg_info_dict['page_' + str(page_num)]['panel_num'+str(panel_num)] = panel_embedding \n",
    "\n",
    "\n"
   ]
  },
  {
   "cell_type": "code",
   "execution_count": 28,
   "metadata": {},
   "outputs": [],
   "source": [
    "with open('test_vgg_embedding.pickle', 'wb') as handle:\n",
    "    pickle.dump(test_comic_vgg_info_dict, handle, protocol=pickle.HIGHEST_PROTOCOL)"
   ]
  },
  {
   "cell_type": "code",
   "execution_count": 29,
   "metadata": {},
   "outputs": [],
   "source": [
    "del test_comic_vgg_info_dict, dev_comic_vgg_info_dict"
   ]
  },
  {
   "cell_type": "code",
   "execution_count": 30,
   "metadata": {},
   "outputs": [],
   "source": [
    "training_comic_vgg_info_dict = {}\n",
    "for page_num in range(training_all_embeddings.shape[0]):\n",
    "\n",
    "    training_comic_vgg_info_dict['page_' + str(page_num)] = {}\n",
    "    counter = 0\n",
    "    for panel_num in range(9):\n",
    "        panel_embedding = training_all_embeddings[page_num, panel_num, :]\n",
    "\n",
    "        \n",
    "        if np.min(panel_embedding) <= 1e-6:\n",
    "            break;\n",
    "        else:\n",
    "            counter = counter + 1\n",
    "            training_comic_vgg_info_dict['page_' + str(page_num)]['counter'] = counter\n",
    "            training_comic_vgg_info_dict['page_' + str(page_num)]['panel_num'+str(panel_num)] = panel_embedding \n",
    "\n",
    "\n"
   ]
  },
  {
   "cell_type": "code",
   "execution_count": 31,
   "metadata": {},
   "outputs": [],
   "source": [
    "with open('training_vgg_embedding.pickle', 'wb') as handle:\n",
    "    pickle.dump(training_comic_vgg_info_dict, handle, protocol=pickle.HIGHEST_PROTOCOL)"
   ]
  },
  {
   "cell_type": "code",
   "execution_count": null,
   "metadata": {},
   "outputs": [],
   "source": []
  }
 ],
 "metadata": {
  "interpreter": {
   "hash": "b6a8b6c0b5106e7caeec98cdf92ceda05ee7e347b4f5da7767826e925bc7ff30"
  },
  "kernelspec": {
   "display_name": "Python 3.6.8 ('thesis_main_env')",
   "language": "python",
   "name": "python3"
  },
  "language_info": {
   "codemirror_mode": {
    "name": "ipython",
    "version": 3
   },
   "file_extension": ".py",
   "mimetype": "text/x-python",
   "name": "python",
   "nbconvert_exporter": "python",
   "pygments_lexer": "ipython3",
   "version": "3.6.8"
  },
  "orig_nbformat": 4
 },
 "nbformat": 4,
 "nbformat_minor": 2
}
